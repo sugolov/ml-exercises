{
 "cells": [
  {
   "cell_type": "markdown",
   "id": "b7dcc5b9",
   "metadata": {},
   "source": [
    "# Iris Classification Exercise\n",
    "\n",
    "ML exercise using things learned from Google's Crash Course: https://developers.google.com/machine-learning/crash-course. Iris data retrieved from https://archive.ics.uci.edu/ml/datasets/iris.\n",
    "\n",
    "We classify iris flowers of three possible species given their sepal length, sepal width, petal length, and petal width.\n",
    "\n",
    "### Import packages and data"
   ]
  },
  {
   "cell_type": "code",
   "execution_count": 3,
   "id": "89ed537c",
   "metadata": {},
   "outputs": [],
   "source": [
    "import pandas as pd\n",
    "import numpy as np\n",
    "import tensorflow as tf\n",
    "from matplotlib import pyplot as plt"
   ]
  },
  {
   "cell_type": "markdown",
   "id": "cd437145",
   "metadata": {},
   "source": [
    "Load the dataframe with 150 total flowers. 100 become training data, 25 become the test set, and 25 become the validation set."
   ]
  },
  {
   "cell_type": "code",
   "execution_count": 4,
   "id": "90c81382",
   "metadata": {},
   "outputs": [],
   "source": [
    "col_names = [\n",
    "    \"sepal_length\", \"sepal_width\", \"petal_length\", \"petal_width\", \"species\"\n",
    "]\n",
    "categorical_species = {\n",
    "    \"species\" : {\n",
    "        \"Iris-setosa\" : 1,\n",
    "        \"Iris-versicolor\" : 2,\n",
    "        \"Iris-virginica\" : 3\n",
    "    }\n",
    "}\n",
    "\n",
    "main_df = pd.read_csv(\"iris.data\", header=None, names=col_names)\n",
    "main_df = main_df.replace(categorical_species).reindex(\n",
    "    np.random.permutation(main_df.index)\n",
    ")\n",
    "train_df = main_df[:100]\n",
    "test_df = main_df[100:125]\n",
    "valid_df = main_df[125:]"
   ]
  },
  {
   "cell_type": "markdown",
   "id": "2b045103",
   "metadata": {},
   "source": [
    "### Define methods\n",
    "\n",
    "Define the methods we use to train our model and visualize loss."
   ]
  },
  {
   "cell_type": "code",
   "execution_count": null,
   "id": "5341642e",
   "metadata": {},
   "outputs": [],
   "source": []
  }
 ],
 "metadata": {
  "kernelspec": {
   "display_name": "Python 3 (ipykernel)",
   "language": "python",
   "name": "python3"
  },
  "language_info": {
   "codemirror_mode": {
    "name": "ipython",
    "version": 3
   },
   "file_extension": ".py",
   "mimetype": "text/x-python",
   "name": "python",
   "nbconvert_exporter": "python",
   "pygments_lexer": "ipython3",
   "version": "3.9.9"
  }
 },
 "nbformat": 4,
 "nbformat_minor": 5
}
